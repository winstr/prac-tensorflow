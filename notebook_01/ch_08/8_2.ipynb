{
 "cells": [
  {
   "cell_type": "code",
   "execution_count": 1,
   "metadata": {},
   "outputs": [
    {
     "data": {
      "text/plain": [
       "'\\ndef make_subset(subset_name, start_index, end_index):\\n    for category in (\"cat\", \"dog\"):\\n        dir = new_base_dir / subset_name / category\\n        os.makedirs(dir)\\n        fnames = [f\"{category}.{i}.jpg\"\\n                  for i in range(start_index, end_index)]\\n        for fname in fnames:\\n            shutil.copyfile(src=original_dir / fname,\\n                            dst=dir / fname)\\n\\nmake_subset(\"train\", 0, 1000)\\nmake_subset(\"validation\", 1000, 1500)\\nmake_subset(\"test\", 1500, 2500)\\n'"
      ]
     },
     "execution_count": 1,
     "metadata": {},
     "output_type": "execute_result"
    }
   ],
   "source": [
    "\"\"\"\n",
    "!pip3 install --upgrade pip\n",
    "!pip3 install kaggle\n",
    "\n",
    "# you need to download the kaggle.json file from the kaggle website.\n",
    "!mkdir ~/.kaggle\n",
    "!cp ./kaggle.json ~/.kaggle/\n",
    "!chmod 600 ~/.kaggle/kaggle.json\n",
    "\n",
    "# you need to accept the rules.\n",
    "!kaggle competitions download -c dogs-vs-cats\n",
    "\n",
    "!unzip ./dogs-vs-cats.zip\n",
    "!unzip -qq ./train.zip\n",
    "!rm -rf ./dogs-vs-cats.zip\n",
    "!rm -rf ./train.zip\n",
    "\n",
    "import os, shutil\n",
    "\"\"\"\n",
    "import pathlib\n",
    "\n",
    "original_dir = pathlib.Path(\"train\")\n",
    "new_base_dir = pathlib.Path(\"cat_vs_dogs_small\")\n",
    "\n",
    "\"\"\"\n",
    "def make_subset(subset_name, start_index, end_index):\n",
    "    for category in (\"cat\", \"dog\"):\n",
    "        dir = new_base_dir / subset_name / category\n",
    "        os.makedirs(dir)\n",
    "        fnames = [f\"{category}.{i}.jpg\"\n",
    "                  for i in range(start_index, end_index)]\n",
    "        for fname in fnames:\n",
    "            shutil.copyfile(src=original_dir / fname,\n",
    "                            dst=dir / fname)\n",
    "\n",
    "make_subset(\"train\", 0, 1000)\n",
    "make_subset(\"validation\", 1000, 1500)\n",
    "make_subset(\"test\", 1500, 2500)\n",
    "\"\"\""
   ]
  },
  {
   "cell_type": "code",
   "execution_count": 2,
   "metadata": {},
   "outputs": [
    {
     "name": "stderr",
     "output_type": "stream",
     "text": [
      "2023-09-13 14:59:09.095468: I tensorflow/core/platform/cpu_feature_guard.cc:182] This TensorFlow binary is optimized to use available CPU instructions in performance-critical operations.\n",
      "To enable the following instructions: AVX2 FMA, in other operations, rebuild TensorFlow with the appropriate compiler flags.\n"
     ]
    },
    {
     "name": "stdout",
     "output_type": "stream",
     "text": [
      "Model: \"model\"\n",
      "_________________________________________________________________\n",
      " Layer (type)                Output Shape              Param #   \n",
      "=================================================================\n",
      " input_1 (InputLayer)        [(None, 180, 180, 3)]     0         \n",
      "                                                                 \n",
      " rescaling (Rescaling)       (None, 180, 180, 3)       0         \n",
      "                                                                 \n",
      " conv2d (Conv2D)             (None, 178, 178, 32)      896       \n",
      "                                                                 \n",
      " max_pooling2d (MaxPooling2  (None, 89, 89, 32)        0         \n",
      " D)                                                              \n",
      "                                                                 \n",
      " conv2d_1 (Conv2D)           (None, 87, 87, 64)        18496     \n",
      "                                                                 \n",
      " max_pooling2d_1 (MaxPoolin  (None, 43, 43, 64)        0         \n",
      " g2D)                                                            \n",
      "                                                                 \n",
      " conv2d_2 (Conv2D)           (None, 41, 41, 128)       73856     \n",
      "                                                                 \n",
      " max_pooling2d_2 (MaxPoolin  (None, 20, 20, 128)       0         \n",
      " g2D)                                                            \n",
      "                                                                 \n",
      " conv2d_3 (Conv2D)           (None, 18, 18, 256)       295168    \n",
      "                                                                 \n",
      " max_pooling2d_3 (MaxPoolin  (None, 9, 9, 256)         0         \n",
      " g2D)                                                            \n",
      "                                                                 \n",
      " conv2d_4 (Conv2D)           (None, 7, 7, 256)         590080    \n",
      "                                                                 \n",
      " flatten (Flatten)           (None, 12544)             0         \n",
      "                                                                 \n",
      " dense (Dense)               (None, 1)                 12545     \n",
      "                                                                 \n",
      "=================================================================\n",
      "Total params: 991041 (3.78 MB)\n",
      "Trainable params: 991041 (3.78 MB)\n",
      "Non-trainable params: 0 (0.00 Byte)\n",
      "_________________________________________________________________\n"
     ]
    },
    {
     "name": "stderr",
     "output_type": "stream",
     "text": [
      "2023-09-13 14:59:10.476228: I tensorflow/compiler/xla/stream_executor/cuda/cuda_gpu_executor.cc:995] successful NUMA node read from SysFS had negative value (-1), but there must be at least one NUMA node, so returning NUMA node zero. See more at https://github.com/torvalds/linux/blob/v6.0/Documentation/ABI/testing/sysfs-bus-pci#L344-L355\n",
      "2023-09-13 14:59:10.494191: I tensorflow/compiler/xla/stream_executor/cuda/cuda_gpu_executor.cc:995] successful NUMA node read from SysFS had negative value (-1), but there must be at least one NUMA node, so returning NUMA node zero. See more at https://github.com/torvalds/linux/blob/v6.0/Documentation/ABI/testing/sysfs-bus-pci#L344-L355\n",
      "2023-09-13 14:59:10.494385: I tensorflow/compiler/xla/stream_executor/cuda/cuda_gpu_executor.cc:995] successful NUMA node read from SysFS had negative value (-1), but there must be at least one NUMA node, so returning NUMA node zero. See more at https://github.com/torvalds/linux/blob/v6.0/Documentation/ABI/testing/sysfs-bus-pci#L344-L355\n",
      "2023-09-13 14:59:10.495480: I tensorflow/compiler/xla/stream_executor/cuda/cuda_gpu_executor.cc:995] successful NUMA node read from SysFS had negative value (-1), but there must be at least one NUMA node, so returning NUMA node zero. See more at https://github.com/torvalds/linux/blob/v6.0/Documentation/ABI/testing/sysfs-bus-pci#L344-L355\n",
      "2023-09-13 14:59:10.495626: I tensorflow/compiler/xla/stream_executor/cuda/cuda_gpu_executor.cc:995] successful NUMA node read from SysFS had negative value (-1), but there must be at least one NUMA node, so returning NUMA node zero. See more at https://github.com/torvalds/linux/blob/v6.0/Documentation/ABI/testing/sysfs-bus-pci#L344-L355\n",
      "2023-09-13 14:59:10.495754: I tensorflow/compiler/xla/stream_executor/cuda/cuda_gpu_executor.cc:995] successful NUMA node read from SysFS had negative value (-1), but there must be at least one NUMA node, so returning NUMA node zero. See more at https://github.com/torvalds/linux/blob/v6.0/Documentation/ABI/testing/sysfs-bus-pci#L344-L355\n",
      "2023-09-13 14:59:10.915587: I tensorflow/compiler/xla/stream_executor/cuda/cuda_gpu_executor.cc:995] successful NUMA node read from SysFS had negative value (-1), but there must be at least one NUMA node, so returning NUMA node zero. See more at https://github.com/torvalds/linux/blob/v6.0/Documentation/ABI/testing/sysfs-bus-pci#L344-L355\n",
      "2023-09-13 14:59:10.915761: I tensorflow/compiler/xla/stream_executor/cuda/cuda_gpu_executor.cc:995] successful NUMA node read from SysFS had negative value (-1), but there must be at least one NUMA node, so returning NUMA node zero. See more at https://github.com/torvalds/linux/blob/v6.0/Documentation/ABI/testing/sysfs-bus-pci#L344-L355\n",
      "2023-09-13 14:59:10.915896: I tensorflow/compiler/xla/stream_executor/cuda/cuda_gpu_executor.cc:995] successful NUMA node read from SysFS had negative value (-1), but there must be at least one NUMA node, so returning NUMA node zero. See more at https://github.com/torvalds/linux/blob/v6.0/Documentation/ABI/testing/sysfs-bus-pci#L344-L355\n",
      "2023-09-13 14:59:10.916039: I tensorflow/core/common_runtime/gpu/gpu_device.cc:1639] Created device /job:localhost/replica:0/task:0/device:GPU:0 with 6365 MB memory:  -> device: 0, name: NVIDIA GeForce RTX 2070 SUPER, pci bus id: 0000:09:00.0, compute capability: 7.5\n"
     ]
    }
   ],
   "source": [
    "import keras\n",
    "from keras import layers\n",
    "\n",
    "inputs = keras.Input(shape=(180, 180, 3))\n",
    "\n",
    "x = layers.Rescaling(1./255)(inputs)\n",
    "\n",
    "x = layers.Conv2D(filters=32, kernel_size=3, activation=\"relu\")(x)\n",
    "x = layers.MaxPool2D(pool_size=2)(x)\n",
    "\n",
    "x = layers.Conv2D(filters=64, kernel_size=3, activation=\"relu\")(x)\n",
    "x = layers.MaxPool2D(pool_size=2)(x)\n",
    "\n",
    "x = layers.Conv2D(filters=128, kernel_size=3, activation=\"relu\")(x)\n",
    "x = layers.MaxPool2D(pool_size=2)(x)\n",
    "\n",
    "x = layers.Conv2D(filters=256, kernel_size=3, activation=\"relu\")(x)\n",
    "x = layers.MaxPool2D(pool_size=2)(x)\n",
    "\n",
    "x = layers.Conv2D(filters=256, kernel_size=3, activation=\"relu\")(x)\n",
    "x = layers.Flatten()(x)\n",
    "\n",
    "outputs = layers.Dense(1, activation=\"sigmoid\")(x)\n",
    "model = keras.Model(inputs=inputs, outputs=outputs)\n",
    "\n",
    "model.summary()"
   ]
  },
  {
   "cell_type": "code",
   "execution_count": 3,
   "metadata": {},
   "outputs": [],
   "source": [
    "model.compile(optimizer=\"rmsprop\",\n",
    "              loss=\"binary_crossentropy\",\n",
    "              metrics=[\"accuracy\"])"
   ]
  },
  {
   "cell_type": "code",
   "execution_count": 5,
   "metadata": {},
   "outputs": [
    {
     "name": "stdout",
     "output_type": "stream",
     "text": [
      "Found 2000 files belonging to 2 classes.\n",
      "Found 1000 files belonging to 2 classes.\n",
      "Found 2000 files belonging to 2 classes.\n"
     ]
    }
   ],
   "source": [
    "from keras.utils import image_dataset_from_directory\n",
    "\n",
    "train_dataset = image_dataset_from_directory(\n",
    "    directory=new_base_dir / \"train\",\n",
    "    image_size=(180, 180),\n",
    "    batch_size=32)\n",
    "validation_dataset = image_dataset_from_directory(\n",
    "    directory=new_base_dir / \"validation\",\n",
    "    image_size=(180, 180),\n",
    "    batch_size=32)\n",
    "test_dataset = image_dataset_from_directory(\n",
    "    directory=new_base_dir / \"test\",\n",
    "    image_size=(180, 180),\n",
    "    batch_size=32)"
   ]
  },
  {
   "cell_type": "code",
   "execution_count": 6,
   "metadata": {},
   "outputs": [
    {
     "name": "stdout",
     "output_type": "stream",
     "text": [
      "data batch size: (32, 180, 180, 3)\n",
      "label batch size: (32,)\n"
     ]
    }
   ],
   "source": [
    "for data_batch, labels_batch in train_dataset:\n",
    "    print(f\"data batch size: {data_batch.shape}\")\n",
    "    print(f\"label batch size: {labels_batch.shape}\")\n",
    "    break"
   ]
  },
  {
   "cell_type": "code",
   "execution_count": 9,
   "metadata": {},
   "outputs": [
    {
     "name": "stdout",
     "output_type": "stream",
     "text": [
      "Epoch 1/30\n"
     ]
    },
    {
     "name": "stdout",
     "output_type": "stream",
     "text": [
      "62/63 [============================>.] - ETA: 0s - loss: 0.6825 - accuracy: 0.5837INFO:tensorflow:Assets written to: convnet_from_scratch.x/assets\n"
     ]
    },
    {
     "name": "stderr",
     "output_type": "stream",
     "text": [
      "INFO:tensorflow:Assets written to: convnet_from_scratch.x/assets\n"
     ]
    },
    {
     "name": "stdout",
     "output_type": "stream",
     "text": [
      "63/63 [==============================] - 3s 42ms/step - loss: 0.6820 - accuracy: 0.5845 - val_loss: 0.6743 - val_accuracy: 0.5340\n",
      "Epoch 2/30\n",
      "61/63 [============================>.] - ETA: 0s - loss: 0.6626 - accuracy: 0.6101INFO:tensorflow:Assets written to: convnet_from_scratch.x/assets\n"
     ]
    },
    {
     "name": "stderr",
     "output_type": "stream",
     "text": [
      "INFO:tensorflow:Assets written to: convnet_from_scratch.x/assets\n"
     ]
    },
    {
     "name": "stdout",
     "output_type": "stream",
     "text": [
      "63/63 [==============================] - 3s 41ms/step - loss: 0.6619 - accuracy: 0.6105 - val_loss: 0.6360 - val_accuracy: 0.6210\n",
      "Epoch 3/30\n",
      "63/63 [==============================] - 2s 29ms/step - loss: 0.6284 - accuracy: 0.6455 - val_loss: 0.6573 - val_accuracy: 0.5890\n",
      "Epoch 4/30\n",
      "61/63 [============================>.] - ETA: 0s - loss: 0.6007 - accuracy: 0.6788INFO:tensorflow:Assets written to: convnet_from_scratch.x/assets\n"
     ]
    },
    {
     "name": "stderr",
     "output_type": "stream",
     "text": [
      "INFO:tensorflow:Assets written to: convnet_from_scratch.x/assets\n"
     ]
    },
    {
     "name": "stdout",
     "output_type": "stream",
     "text": [
      "63/63 [==============================] - 2s 38ms/step - loss: 0.6002 - accuracy: 0.6795 - val_loss: 0.6163 - val_accuracy: 0.6540\n",
      "Epoch 5/30\n",
      "63/63 [==============================] - 2s 29ms/step - loss: 0.5630 - accuracy: 0.7005 - val_loss: 0.6300 - val_accuracy: 0.6610\n",
      "Epoch 6/30\n",
      "61/63 [============================>.] - ETA: 0s - loss: 0.5451 - accuracy: 0.7310INFO:tensorflow:Assets written to: convnet_from_scratch.x/assets\n"
     ]
    },
    {
     "name": "stderr",
     "output_type": "stream",
     "text": [
      "INFO:tensorflow:Assets written to: convnet_from_scratch.x/assets\n"
     ]
    },
    {
     "name": "stdout",
     "output_type": "stream",
     "text": [
      "63/63 [==============================] - 2s 39ms/step - loss: 0.5447 - accuracy: 0.7330 - val_loss: 0.5839 - val_accuracy: 0.6930\n",
      "Epoch 7/30\n",
      "61/63 [============================>.] - ETA: 0s - loss: 0.4985 - accuracy: 0.7649INFO:tensorflow:Assets written to: convnet_from_scratch.x/assets\n"
     ]
    },
    {
     "name": "stderr",
     "output_type": "stream",
     "text": [
      "INFO:tensorflow:Assets written to: convnet_from_scratch.x/assets\n"
     ]
    },
    {
     "name": "stdout",
     "output_type": "stream",
     "text": [
      "63/63 [==============================] - 2s 39ms/step - loss: 0.4968 - accuracy: 0.7660 - val_loss: 0.5537 - val_accuracy: 0.7360\n",
      "Epoch 8/30\n",
      "63/63 [==============================] - 2s 29ms/step - loss: 0.4382 - accuracy: 0.7935 - val_loss: 0.6182 - val_accuracy: 0.7270\n",
      "Epoch 9/30\n",
      "63/63 [==============================] - 2s 29ms/step - loss: 0.3904 - accuracy: 0.8215 - val_loss: 0.6733 - val_accuracy: 0.7330\n",
      "Epoch 10/30\n",
      "63/63 [==============================] - 2s 29ms/step - loss: 0.3158 - accuracy: 0.8675 - val_loss: 0.6462 - val_accuracy: 0.7480\n",
      "Epoch 11/30\n",
      "63/63 [==============================] - 2s 29ms/step - loss: 0.2442 - accuracy: 0.9000 - val_loss: 0.8085 - val_accuracy: 0.7330\n",
      "Epoch 12/30\n",
      "63/63 [==============================] - 2s 29ms/step - loss: 0.2077 - accuracy: 0.9175 - val_loss: 0.7803 - val_accuracy: 0.7370\n",
      "Epoch 13/30\n",
      "63/63 [==============================] - 2s 29ms/step - loss: 0.1323 - accuracy: 0.9530 - val_loss: 1.0104 - val_accuracy: 0.7430\n",
      "Epoch 14/30\n",
      "63/63 [==============================] - 2s 29ms/step - loss: 0.1155 - accuracy: 0.9600 - val_loss: 1.1597 - val_accuracy: 0.7240\n",
      "Epoch 15/30\n",
      "63/63 [==============================] - 2s 29ms/step - loss: 0.0836 - accuracy: 0.9715 - val_loss: 1.2220 - val_accuracy: 0.7300\n",
      "Epoch 16/30\n",
      "63/63 [==============================] - 2s 29ms/step - loss: 0.0668 - accuracy: 0.9780 - val_loss: 1.3598 - val_accuracy: 0.7410\n",
      "Epoch 17/30\n",
      "63/63 [==============================] - 2s 29ms/step - loss: 0.0558 - accuracy: 0.9805 - val_loss: 1.4076 - val_accuracy: 0.7450\n",
      "Epoch 18/30\n",
      "63/63 [==============================] - 2s 29ms/step - loss: 0.0519 - accuracy: 0.9845 - val_loss: 1.5997 - val_accuracy: 0.7400\n",
      "Epoch 19/30\n",
      "63/63 [==============================] - 2s 29ms/step - loss: 0.0522 - accuracy: 0.9795 - val_loss: 2.5582 - val_accuracy: 0.6780\n",
      "Epoch 20/30\n",
      "63/63 [==============================] - 2s 29ms/step - loss: 0.0422 - accuracy: 0.9875 - val_loss: 1.6406 - val_accuracy: 0.7430\n",
      "Epoch 21/30\n",
      "63/63 [==============================] - 2s 29ms/step - loss: 0.0410 - accuracy: 0.9865 - val_loss: 1.7052 - val_accuracy: 0.7350\n",
      "Epoch 22/30\n",
      "63/63 [==============================] - 2s 29ms/step - loss: 0.0419 - accuracy: 0.9895 - val_loss: 1.6432 - val_accuracy: 0.7390\n",
      "Epoch 23/30\n",
      "63/63 [==============================] - 2s 29ms/step - loss: 0.0505 - accuracy: 0.9890 - val_loss: 1.8747 - val_accuracy: 0.7250\n",
      "Epoch 24/30\n",
      "63/63 [==============================] - 2s 29ms/step - loss: 0.0549 - accuracy: 0.9835 - val_loss: 1.7074 - val_accuracy: 0.7330\n",
      "Epoch 25/30\n",
      "63/63 [==============================] - 2s 29ms/step - loss: 0.0190 - accuracy: 0.9945 - val_loss: 2.4335 - val_accuracy: 0.7320\n",
      "Epoch 26/30\n",
      "63/63 [==============================] - 2s 29ms/step - loss: 0.0467 - accuracy: 0.9825 - val_loss: 1.8165 - val_accuracy: 0.7370\n",
      "Epoch 27/30\n",
      "63/63 [==============================] - 2s 29ms/step - loss: 0.0429 - accuracy: 0.9900 - val_loss: 1.9287 - val_accuracy: 0.7230\n",
      "Epoch 28/30\n",
      "63/63 [==============================] - 2s 29ms/step - loss: 0.0326 - accuracy: 0.9870 - val_loss: 2.2313 - val_accuracy: 0.7360\n",
      "Epoch 29/30\n",
      "63/63 [==============================] - 2s 29ms/step - loss: 0.0392 - accuracy: 0.9880 - val_loss: 2.4948 - val_accuracy: 0.7320\n",
      "Epoch 30/30\n",
      "63/63 [==============================] - 2s 29ms/step - loss: 0.0479 - accuracy: 0.9840 - val_loss: 2.2579 - val_accuracy: 0.7380\n"
     ]
    }
   ],
   "source": [
    "callbacks = [\n",
    "    keras.callbacks.ModelCheckpoint(\n",
    "        filepath=\"convnet_from_scratch.x\",\n",
    "        save_best_only=True,\n",
    "        monitor=\"val_loss\")\n",
    "]\n",
    "\n",
    "history = model.fit(\n",
    "    train_dataset,\n",
    "    epochs=30,\n",
    "    validation_data=validation_dataset,\n",
    "    callbacks=callbacks)"
   ]
  },
  {
   "cell_type": "code",
   "execution_count": 10,
   "metadata": {},
   "outputs": [
    {
     "data": {
      "image/png": "[encoded data removed]",
      "text/plain": [
       "<Figure size 640x480 with 1 Axes>"
      ]
     },
     "metadata": {},
     "output_type": "display_data"
    },
    {
     "data": {
      "image/png": "[encoded data removed]",
      "text/plain": [
       "<Figure size 640x480 with 1 Axes>"
      ]
     },
     "metadata": {},
     "output_type": "display_data"
    }
   ],
   "source": [
    "import matplotlib.pyplot as plt\n",
    "\n",
    "accuracy = history.history[\"accuracy\"]\n",
    "val_accuracy = history.history[\"val_accuracy\"]\n",
    "loss = history.history[\"loss\"]\n",
    "val_loss = history.history[\"val_loss\"]\n",
    "epochs = range(1, len(accuracy) + 1)\n",
    "\n",
    "plt.plot(epochs, accuracy, \"bo\", label=\"Training Acc.\")\n",
    "plt.plot(epochs, val_accuracy, \"b\", label=\"Validation Acc.\")\n",
    "plt.title(\"Training and Validation Acc.\")\n",
    "plt.legend()\n",
    "plt.figure()\n",
    "plt.plot(epochs, loss, \"bo\", label=\"Training Loss\")\n",
    "plt.plot(epochs, val_loss, \"b\", label=\"Validation Loss\")\n",
    "plt.title(\"Training and Validation Loss\")\n",
    "plt.legend()\n",
    "plt.show()"
   ]
  },
  {
   "cell_type": "code",
   "execution_count": 11,
   "metadata": {},
   "outputs": [
    {
     "name": "stdout",
     "output_type": "stream",
     "text": [
      "63/63 [==============================] - 1s 11ms/step - loss: 0.5418 - accuracy: 0.7270\n",
      "test acc: 0.727\n"
     ]
    }
   ],
   "source": [
    "test_model = keras.models.load_model(\"./convnet_from_scratch.x\")\n",
    "test_loss, test_acc = test_model.evaluate(test_dataset)\n",
    "print(f\"test acc: {test_acc:.3f}\")"
   ]
  },
  {
   "cell_type": "code",
   "execution_count": null,
   "metadata": {},
   "outputs": [],
   "source": []
  }
 ],
 "metadata": {
  "kernelspec": {
   "display_name": "Python 3",
   "language": "python",
   "name": "python3"
  },
  "language_info": {
   "codemirror_mode": {
    "name": "ipython",
    "version": 3
   },
   "file_extension": ".py",
   "mimetype": "text/x-python",
   "name": "python",
   "nbconvert_exporter": "python",
   "pygments_lexer": "ipython3",
   "version": "3.10.12"
  },
  "orig_nbformat": 4
 },
 "nbformat": 4,
 "nbformat_minor": 2
}
